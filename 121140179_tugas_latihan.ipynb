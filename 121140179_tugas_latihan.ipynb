{
 "cells": [
  {
   "cell_type": "markdown",
   "metadata": {},
   "source": [
    "# **Tugas Latihan Praktikum**\n",
    "\n",
    "Farhan Apri Kesuma (121140179)"
   ]
  },
  {
   "cell_type": "markdown",
   "metadata": {},
   "source": [
    "## **Tampilan Desktop**\n",
    "\n",
    "![](./snapshot/input.png)\n",
    "![](./snapshot/list.png)\n",
    "![](./snapshot/search.png)\n",
    "\n",
    "## **Tampilan Mobile**\n",
    "\n",
    "![](./snapshot/input-mobile.png)\n",
    "![](./snapshot/list-mobile.png)\n",
    "![](./snapshot/search-mobile.png)"
   ]
  }
 ],
 "metadata": {
  "kernelspec": {
   "display_name": "py310_multimedia",
   "language": "python",
   "name": "python3"
  },
  "language_info": {
   "name": "python",
   "version": "3.10.15"
  }
 },
 "nbformat": 4,
 "nbformat_minor": 2
}
